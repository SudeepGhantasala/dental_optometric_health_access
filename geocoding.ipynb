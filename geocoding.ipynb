{
 "cells": [
  {
   "cell_type": "code",
   "execution_count": 1,
   "id": "b34041e0",
   "metadata": {},
   "outputs": [],
   "source": [
    "import pandas as pd\n",
    "import folium\n",
    "import requests\n",
    "import geopy\n",
    "import geopandas\n",
    "from geopy.extra.rate_limiter import RateLimiter\n",
    "from functools import partial\n",
    "from geopy.geocoders import Nominatim\n",
    "import json\n",
    "from shapely.geometry import Point\n",
    "import re \n",
    "\n",
    "from flatten_json import flatten\n",
    "\n",
    "\n"
   ]
  },
  {
   "cell_type": "code",
   "execution_count": null,
   "id": "0a8e1ce0",
   "metadata": {},
   "outputs": [],
   "source": [
    "#single upload\n",
    "\n",
    "df_drop = pd.read_csv('KY_cleaned_addresses.csv').reset_index(drop=True)\n",
    "\n",
    "endpoint2 = 'https://geocoding.geo.census.gov/geocoder/geographies/address'\n",
    "df_drop['output'] = \" \"\n",
    "for index, item in df_drop.iterrows():\n",
    "    print(index)\n",
    "    params2 = {'benchmark' : 'Public_AR_Current',\n",
    "               'vintage' : 'Census2010_Current',\n",
    "               'street' : str(df_drop.loc[index, 'address_1']),\n",
    "               'city' : str(df_drop.loc[index, 'city']),\n",
    "                 'state' : str(df_drop.loc[index, 'state']),\n",
    "                   'format': 'json',\n",
    "              'layers' : 'all'}\n",
    "\n",
    "    df_drop.loc[index, 'output'] = str(requests.get(endpoint2, params2).json())\n",
    "\n",
    "df_drop.to_csv('TN_cleaned_no_dups_geocoded.csv')"
   ]
  }
 ],
 "metadata": {
  "kernelspec": {
   "display_name": "Python 3",
   "language": "python",
   "name": "python3"
  },
  "language_info": {
   "codemirror_mode": {
    "name": "ipython",
    "version": 3
   },
   "file_extension": ".py",
   "mimetype": "text/x-python",
   "name": "python",
   "nbconvert_exporter": "python",
   "pygments_lexer": "ipython3",
   "version": "3.8.8"
  }
 },
 "nbformat": 4,
 "nbformat_minor": 5
}
